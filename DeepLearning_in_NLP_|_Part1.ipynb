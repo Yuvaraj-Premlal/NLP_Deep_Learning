{
  "nbformat": 4,
  "nbformat_minor": 0,
  "metadata": {
    "colab": {
      "name": "DeepLearning in NLP | Part1.ipynb",
      "provenance": [],
      "authorship_tag": "ABX9TyN/AI1RLjPhcFxBTAkaz8Hg",
      "include_colab_link": true
    },
    "kernelspec": {
      "name": "python3",
      "display_name": "Python 3"
    },
    "language_info": {
      "name": "python"
    }
  },
  "cells": [
    {
      "cell_type": "markdown",
      "metadata": {
        "id": "view-in-github",
        "colab_type": "text"
      },
      "source": [
        "<a href=\"https://colab.research.google.com/github/Yuvaraj-Premlal/NLP_Deep_Learning/blob/main/DeepLearning_in_NLP_%7C_Part1.ipynb\" target=\"_parent\"><img src=\"https://colab.research.google.com/assets/colab-badge.svg\" alt=\"Open In Colab\"/></a>"
      ]
    },
    {
      "cell_type": "markdown",
      "source": [
        "**Deep Learning in Natural Language Processing**\n",
        "\n",
        "Part 1 : Understand the basics of working with text"
      ],
      "metadata": {
        "id": "M4bP7sLdaATQ"
      }
    },
    {
      "cell_type": "markdown",
      "source": [
        "(a) How to view \"Text\" as a NLP professional?\n",
        "\n",
        "Text should be viewed as a form of sequence of data rather than with human sense. It can be understood either as a sequence of characters or sequence of words, but its most common to work at the level of words.\n",
        "\n"
      ],
      "metadata": {
        "id": "JhTNPdkVaodZ"
      }
    },
    {
      "cell_type": "markdown",
      "source": [
        "(b) What is \"Deep Learning\" for NLP?\n",
        "\n",
        "Deep learning for natural language processing is pattern recognition applied to words, sentences and paragraphs. These elements of a language (words, sentences and paragraphs) are analogous to pixels in computer vision projects involving images."
      ],
      "metadata": {
        "id": "hsYJrCR8bSkn"
      }
    },
    {
      "cell_type": "markdown",
      "source": [
        "(c) What should be the first step in applying deep learning concepts to NLP?\n",
        "\n",
        "Once you download the dataset, your first step should be to **Vectorize** the text in it.\n",
        "\n",
        "Vectorization refers to converting input raw text in to numeric tensors. Because Deep learning models do not take text as input ( in almost all cases ) , this process is essential."
      ],
      "metadata": {
        "id": "B2Kmfjw6b2MA"
      }
    },
    {
      "cell_type": "markdown",
      "source": [
        "(d) What are the methods to Vectorize input raw text?\n",
        "\n",
        "\n",
        "\n",
        "*   **Segment text in to words and transform each word in to a vector**\n",
        "\n",
        "   *Illustration_1:*\n",
        "\n",
        "   [\"Hello , How are you?\"]  **to** [\"hello\",\"how\",\"are\",\"you\"] **to** [1,0,1,1,0]\n",
        "\n",
        "*   **Segment text in to characters and transform each character in to a vector**\n",
        "\n",
        "   *Illustration_2:*\n",
        "\n",
        "   [\"Hello , How are you?\"]  **to** [\"hello\",\"how\",\"are\",\"you\"] **to** ['h','e','l','o','w','a','r','e','y','u'] **to**[1,0,1,1,0]\n",
        "\n",
        "\n",
        "*   **Extract N-grams of words or characters and tranform each n-gram in to a vector. (N-grams are overlapping groups of multiple consecutive words.**\n",
        "\n",
        "  *Illustration_3:*\n",
        "\n",
        "   [\"Hello , How are you?\"]  **to** [\"hello how\",\"are you\"] **to**[1,0,1,1,0]\n",
        "\n",
        "\n"
      ],
      "metadata": {
        "id": "Lqha63ISc6Va"
      }
    },
    {
      "cell_type": "markdown",
      "source": [
        "(e) What are \"Tokens\"?\n",
        "\n",
        "Tokens are the the units in to which the given text is broken down.\n",
        "\n",
        "In the above illustrations , the list of tokens are  \n",
        "\n",
        "*  [\"hello\",\"how\",\"are\",\"you\"]\n",
        "*  ['h','e','l','o','w','a','r','e','y','u]\n",
        "*  [\"hello how\",\"are you\"]\n",
        "\n"
      ],
      "metadata": {
        "id": "9-AiNNQlfXZS"
      }
    },
    {
      "cell_type": "markdown",
      "source": [
        "(f) What are the different Vectorization Techniques?\n",
        "\n",
        "Though there are multiple ways, let us focus on two major types:\n",
        "\n",
        "\n",
        "*   One hot encoding \n",
        "*   Token embedding\n"
      ],
      "metadata": {
        "id": "ajlgO2Jzgoo5"
      }
    },
    {
      "cell_type": "code",
      "execution_count": 1,
      "metadata": {
        "colab": {
          "base_uri": "https://localhost:8080/"
        },
        "id": "6b3nSkhtZ-YR",
        "outputId": "b7dfaba7-d60d-479d-e007-8e18cfded3f9"
      },
      "outputs": [
        {
          "output_type": "stream",
          "name": "stdout",
          "text": [
            "{'Hello': 1, ',': 2, 'How': 3, 'are': 4, 'you?': 5, 'I': 6, 'had': 7, 'my': 8, 'breakfast': 9}\n"
          ]
        }
      ],
      "source": [
        "# One hot encoding of text \n",
        "\n",
        "import numpy as np\n",
        "sample_data = ['Hello , Hello How are you?','I had my breakfast']\n",
        "\n",
        "#Tokenization\n",
        "\n",
        "# Build an dictionary of tokens and its index in the sample_data\n",
        "# Required output is a dictionary of items where every word is the \"key\" and every index is the \"value\"\n",
        "token_index = {}\n",
        "\n",
        "# Loop through each sentence in sample_data\n",
        "# Split the sentence in to seperate words\n",
        "# Assign an index value to the same\n",
        "for sentence in sample_data:\n",
        "  for word in sentence.split():\n",
        "    #print(word)\n",
        "    if word not in token_index:\n",
        "      token_index_length = len(token_index)\n",
        "      token_index[word] = token_index_length + 1\n",
        "\n",
        "print(token_index)"
      ]
    },
    {
      "cell_type": "markdown",
      "source": [
        "Note the following in the output:\n",
        "\n",
        "*   Since it is a dictionary, all \"words\" are unique. For instance, there were two \"Hello\" in the sample_data; however, we see only one in the output dictionary.\n",
        "*   Special character like comma (,) is treated as a word. We will learn how to reduce the impact of punctuations later.\n",
        "\n",
        "\n"
      ],
      "metadata": {
        "id": "itooK1E-kStC"
      }
    },
    {
      "cell_type": "markdown",
      "source": [
        "Next step:\n",
        "\n",
        "Create a numpy array that resembles the following image, for all the sentences in the sample_data.\n",
        "\n",
        "\n",
        "![Part1_one_hot_encoding.png](data:image/png;base64,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)\n",
        "\n"
      ],
      "metadata": {
        "id": "gTKajyjaoDXX"
      }
    },
    {
      "cell_type": "code",
      "source": [
        "# create a np array of zeros\n",
        "\n",
        "# Define the length of maximum possible words in a sentence. \n",
        "max_possible_tokens = 6 \n",
        "\n",
        "# Define the shape of the array\n",
        "# We need an array of all sentences which in turn should be an array of its tokens [[\"Hello\",\",\",\"Hello\",\"How\",\"are\",\"you?\"], sentence_2]\n",
        "# Every token should have a one hot encoded numerical array of its own\n",
        "# There are 2 sentences with maximum 6 tokens in a sentence and there are 9 such unique tokens as stored in token_index dictionary\n",
        "# Thus the minimum shape required is (2,6,9); However, you can have much larger shape as well, anticipating more tokens and unique words\n",
        "\n",
        "word_vector = np.zeros(shape=(len(sample_data),max_possible_tokens,max(token_index.values())))\n",
        "print(\"Word vector shape\",word_vector.shape)\n",
        "print(\"Zero matrix\\n\" ,word_vector)\n",
        "\n",
        "\n",
        "\n",
        "for i , sample in enumerate(sample_data): # index the sentence\n",
        "  for j,word in list(enumerate(sample.split())): # split the sentence in to words and index it\n",
        "    index = token_index.get(word) # get index value of the specific word from token_index dictionary\n",
        "    print(i,j,index-1,word) \n",
        "    word_vector[i,j,index-1] = 1 # Set the value to 1 for the position given by sentence index, word index and dictionary index\n",
        "\n",
        "print(word_vector)"
      ],
      "metadata": {
        "colab": {
          "base_uri": "https://localhost:8080/"
        },
        "id": "NA7Hsdrrk9dg",
        "outputId": "5e311a4d-bb1e-4d26-f973-fd796b8bef45"
      },
      "execution_count": 2,
      "outputs": [
        {
          "output_type": "stream",
          "name": "stdout",
          "text": [
            "Word vector shape (2, 6, 9)\n",
            "Zero matrix\n",
            " [[[0. 0. 0. 0. 0. 0. 0. 0. 0.]\n",
            "  [0. 0. 0. 0. 0. 0. 0. 0. 0.]\n",
            "  [0. 0. 0. 0. 0. 0. 0. 0. 0.]\n",
            "  [0. 0. 0. 0. 0. 0. 0. 0. 0.]\n",
            "  [0. 0. 0. 0. 0. 0. 0. 0. 0.]\n",
            "  [0. 0. 0. 0. 0. 0. 0. 0. 0.]]\n",
            "\n",
            " [[0. 0. 0. 0. 0. 0. 0. 0. 0.]\n",
            "  [0. 0. 0. 0. 0. 0. 0. 0. 0.]\n",
            "  [0. 0. 0. 0. 0. 0. 0. 0. 0.]\n",
            "  [0. 0. 0. 0. 0. 0. 0. 0. 0.]\n",
            "  [0. 0. 0. 0. 0. 0. 0. 0. 0.]\n",
            "  [0. 0. 0. 0. 0. 0. 0. 0. 0.]]]\n",
            "0 0 0 Hello\n",
            "0 1 1 ,\n",
            "0 2 0 Hello\n",
            "0 3 2 How\n",
            "0 4 3 are\n",
            "0 5 4 you?\n",
            "1 0 5 I\n",
            "1 1 6 had\n",
            "1 2 7 my\n",
            "1 3 8 breakfast\n",
            "[[[1. 0. 0. 0. 0. 0. 0. 0. 0.]\n",
            "  [0. 1. 0. 0. 0. 0. 0. 0. 0.]\n",
            "  [1. 0. 0. 0. 0. 0. 0. 0. 0.]\n",
            "  [0. 0. 1. 0. 0. 0. 0. 0. 0.]\n",
            "  [0. 0. 0. 1. 0. 0. 0. 0. 0.]\n",
            "  [0. 0. 0. 0. 1. 0. 0. 0. 0.]]\n",
            "\n",
            " [[0. 0. 0. 0. 0. 1. 0. 0. 0.]\n",
            "  [0. 0. 0. 0. 0. 0. 1. 0. 0.]\n",
            "  [0. 0. 0. 0. 0. 0. 0. 1. 0.]\n",
            "  [0. 0. 0. 0. 0. 0. 0. 0. 1.]\n",
            "  [0. 0. 0. 0. 0. 0. 0. 0. 0.]\n",
            "  [0. 0. 0. 0. 0. 0. 0. 0. 0.]]]\n"
          ]
        }
      ]
    },
    {
      "cell_type": "markdown",
      "source": [
        "**Using Tensorflow and Keras**\n",
        "\n",
        "You can create similar numpy array with Keras Library as well."
      ],
      "metadata": {
        "id": "pKTYn81R0vXc"
      }
    },
    {
      "cell_type": "code",
      "source": [
        "# Using keras for word-level one-hot encoding\n",
        "import tensorflow as tf\n",
        "from tensorflow import keras\n",
        "from keras.preprocessing.text import Tokenizer\n",
        "\n",
        "# split the sentence in to texts\n",
        "tokenizer = tf.keras.preprocessing.text.Tokenizer(num_words = 10)\n",
        "tokenizer.fit_on_texts(sample_data)\n",
        "print(tokenizer.word_index)"
      ],
      "metadata": {
        "colab": {
          "base_uri": "https://localhost:8080/"
        },
        "id": "1dbZxd6VVeB7",
        "outputId": "04001c06-9197-48bd-e40a-d2b927df2a44"
      },
      "execution_count": 41,
      "outputs": [
        {
          "output_type": "stream",
          "name": "stdout",
          "text": [
            "{'hello': 1, 'how': 2, 'are': 3, 'you': 4, 'i': 5, 'had': 6, 'my': 7, 'breakfast': 8}\n"
          ]
        }
      ]
    },
    {
      "cell_type": "markdown",
      "source": [
        "Notice the output. All words are \"normalised\" ( that is changed to lower case) , punctuations removes and unique word dictionary created."
      ],
      "metadata": {
        "id": "Ys3Q10MabSu_"
      }
    },
    {
      "cell_type": "code",
      "source": [
        "# Convert to numpy array\n",
        "\n",
        "sequences = tokenizer.texts_to_sequences(sample_data) # converts each text in sample_data to sequence of integers\n",
        "print(\"Corresponding word sequences\",sequences)\n",
        "\n",
        "# numpy array using \"binary\"mode\n",
        "# the output gives information about presence of a word in a document. If present , the value will be set to 1\n",
        "one_hot_encoding = tokenizer.texts_to_matrix(sample_data,mode='binary')\n",
        "print(\"Binary_mode\\n\", one_hot_encoding)\n",
        "\n",
        "# numpy array using \"count\"mode\n",
        "# output array will have count of every term in a given sentence\n",
        "one_hot_encoding = tokenizer.texts_to_matrix(sample_data,mode='count')\n",
        "print(\"Count_mode\\n\", one_hot_encoding)\n",
        "\n",
        "# numpy array using \"freq\"mode\n",
        "# output array will have the freq distribution probability of the given term in a sentence calculated across the sentence\n",
        "one_hot_encoding = tokenizer.texts_to_matrix(sample_data,mode='freq')\n",
        "print(\"Freq_mode\\n\", one_hot_encoding)"
      ],
      "metadata": {
        "colab": {
          "base_uri": "https://localhost:8080/"
        },
        "id": "HXWlke17dn6l",
        "outputId": "8a55d0eb-0d6f-4aed-b8b0-926eff8d3b5d"
      },
      "execution_count": 55,
      "outputs": [
        {
          "output_type": "stream",
          "name": "stdout",
          "text": [
            "Corresponding word sequences [[1, 1, 2, 3, 4], [5, 6, 7, 8]]\n",
            "Binary_mode\n",
            " [[0. 1. 1. 1. 1. 0. 0. 0. 0. 0.]\n",
            " [0. 0. 0. 0. 0. 1. 1. 1. 1. 0.]]\n",
            "Count_mode\n",
            " [[0. 2. 1. 1. 1. 0. 0. 0. 0. 0.]\n",
            " [0. 0. 0. 0. 0. 1. 1. 1. 1. 0.]]\n",
            "Freq_mode\n",
            " [[0.   0.4  0.2  0.2  0.2  0.   0.   0.   0.   0.  ]\n",
            " [0.   0.   0.   0.   0.   0.25 0.25 0.25 0.25 0.  ]]\n"
          ]
        }
      ]
    },
    {
      "cell_type": "markdown",
      "source": [
        "**One hot encoding with hashing trick**\n",
        "\n",
        "-  This method will be handy when the unique tokens in the vocabulary is too large to handle explicitly\n",
        "\n",
        "-  In this method, every word is hashed in to vectors of fixed size\n",
        "\n",
        "-  It eliminates the necessity of storing every term with an index in a dictionary\n",
        "\n",
        "- One drawback is hash collisions ; two words ending up with same hash. This can be overcome with larger dimensionality space."
      ],
      "metadata": {
        "id": "dC8QZqBulFcf"
      }
    },
    {
      "cell_type": "code",
      "source": [
        "# One hot encoding with hashing trick\n",
        "dimensionality = 1000\n",
        "# create a numpy zero matrix of shape (2, 10, 1000) \n",
        "# 2 sentences, 10 unique words in each with dimensionality 1000\n",
        "numpy_matrix = np.zeros((len(sample_data),10,dimensionality))\n",
        "\n",
        "for i,sample in enumerate(sample_data):\n",
        "  for j, word in list(enumerate(sample.split())):\n",
        "    index=abs(hash(word)) % dimensionality\n",
        "    numpy_matrix[i,j,index] = 1"
      ],
      "metadata": {
        "colab": {
          "base_uri": "https://localhost:8080/"
        },
        "id": "6aAba8NAk7a9",
        "outputId": "9342e8f9-79b7-468b-e6f5-7b27668d757e"
      },
      "execution_count": 59,
      "outputs": [
        {
          "output_type": "stream",
          "name": "stdout",
          "text": [
            "[[[0. 0. 0. ... 0. 0. 0.]\n",
            "  [0. 0. 0. ... 0. 0. 0.]\n",
            "  [0. 0. 0. ... 0. 0. 0.]\n",
            "  ...\n",
            "  [0. 0. 0. ... 0. 0. 0.]\n",
            "  [0. 0. 0. ... 0. 0. 0.]\n",
            "  [0. 0. 0. ... 0. 0. 0.]]\n",
            "\n",
            " [[0. 0. 0. ... 0. 0. 0.]\n",
            "  [0. 0. 0. ... 0. 0. 0.]\n",
            "  [0. 0. 0. ... 0. 0. 0.]\n",
            "  ...\n",
            "  [0. 0. 0. ... 0. 0. 0.]\n",
            "  [0. 0. 0. ... 0. 0. 0.]\n",
            "  [0. 0. 0. ... 0. 0. 0.]]]\n"
          ]
        }
      ]
    }
  ]
}